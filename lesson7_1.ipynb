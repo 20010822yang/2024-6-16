{
 "cells": [
  {
   "cell_type": "code",
   "execution_count": null,
   "metadata": {},
   "outputs": [],
   "source": [
    "deposit = 0\n",
    "month = 0\n",
    "while deposit < 30000:\n",
    "    month += 1 \n",
    "    add = int(input(\"{month}月存入的錢\"))\n",
    "    print(f'第{month}月存入{add}元')\n",
    "    deposit += add  \n",
    "print(f\"總共存了{month}個月,存款為{deposit},已達標\")"
   ]
  },
  {
   "cell_type": "code",
   "execution_count": 15,
   "metadata": {},
   "outputs": [
    {
     "name": "stdout",
     "output_type": "stream",
     "text": [
      "Stia\n",
      "結束\n"
     ]
    }
   ],
   "source": [
    "word = str(input(\"輸入小寫文字[輸入q會離開]\"))\n",
    "while word != \"q\" : \n",
    "    print(word.capitalize())\n",
    "    word = str(input(\"輸入小寫文字[輸入q會離開]\"))\n",
    "print('結束')"
   ]
  },
  {
   "cell_type": "code",
   "execution_count": 18,
   "metadata": {},
   "outputs": [
    {
     "name": "stdout",
     "output_type": "stream",
     "text": [
      "Wdqw\n",
      "Dqw\n",
      "Dwq\n",
      "Qwd\n",
      "Dwq\n",
      "結束程式\n"
     ]
    }
   ],
   "source": [
    "while True:\n",
    "    word = str(input(\"輸入小寫文字[輸入q會離開]\"))\n",
    "    if word == \"q\":\n",
    "        break                                           # 結束這個迴圈\n",
    "    print(word.capitalize())\n",
    "print('結束程式')\n",
    "    "
   ]
  },
  {
   "cell_type": "code",
   "execution_count": 29,
   "metadata": {},
   "outputs": [
    {
     "name": "stdout",
     "output_type": "stream",
     "text": [
      "第1學生成績為100\n",
      "第2學生成績為100\n",
      "第3學生成績為40\n",
      "第4學生成績為40\n",
      "總成績為280,班平均為70.0\n"
     ]
    }
   ],
   "source": [
    "sum = 0\n",
    "i = 0\n",
    "while True:\n",
    "    score = int(input(f\"輸入第{i+1}學生成績\"))\n",
    "    if score < 0:\n",
    "        break\n",
    "    print(f\"第{i+1}學生成績為{score}\")\n",
    "    i += 1\n",
    "    sum += score\n",
    "print(f\"總成績為{sum},班平均為{sum/i}\")\n",
    "    \n",
    "    "
   ]
  },
  {
   "cell_type": "code",
   "execution_count": 12,
   "metadata": {},
   "outputs": [
    {
     "name": "stdout",
     "output_type": "stream",
     "text": [
      "程式結束\n"
     ]
    }
   ],
   "source": [
    "#奇數平方\n",
    "#偶數不做任何事\n",
    "#\"q\" 要離開\n",
    "while True:\n",
    "    value = input(\"輸入整數\")\n",
    "    if value == \"q\" or \"Q\" or \"quit\" or \"Quit\" or \"QUIT\":\n",
    "        break\n",
    "    try:\n",
    "        valueInt = int(value)\n",
    "    except:\n",
    "        print(f\"{value} 的格式錯誤,請重新輸入\")\n",
    "        continue                                    # 重新這個迴圈的下一個round\n",
    "    if valueInt % 2 == 0 :\n",
    "        print(\"不執行任何事\")\n",
    "    elif valueInt % 2 == 1 :\n",
    "        print(f\"{value}的平方是{valueInt ** 2}\")\n",
    "print(\"程式結束\")"
   ]
  }
 ],
 "metadata": {
  "kernelspec": {
   "display_name": "Python 3",
   "language": "python",
   "name": "python3"
  },
  "language_info": {
   "codemirror_mode": {
    "name": "ipython",
    "version": 3
   },
   "file_extension": ".py",
   "mimetype": "text/x-python",
   "name": "python",
   "nbconvert_exporter": "python",
   "pygments_lexer": "ipython3",
   "version": "3.10.14"
  }
 },
 "nbformat": 4,
 "nbformat_minor": 2
}
