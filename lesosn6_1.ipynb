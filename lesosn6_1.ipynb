{
 "cells": [
  {
   "cell_type": "code",
   "execution_count": 3,
   "metadata": {},
   "outputs": [
    {
     "name": "stdout",
     "output_type": "stream",
     "text": [
      "成年\n"
     ]
    }
   ],
   "source": [
    "# not 運算值 只能搭配bool值\n",
    "age = eval(input(\"輸入年齡\"))\n",
    "if age >= 18:                               # [age >= 18] 這個判斷會跳出 bool值: True or False\n",
    "    print('成年')\n",
    "else:\n",
    "    print('未成年')"
   ]
  },
  {
   "cell_type": "code",
   "execution_count": null,
   "metadata": {},
   "outputs": [],
   "source": [
    "# not 運算值 只能搭配bool值\n",
    "age = eval(input(\"輸入年齡\"))\n",
    "if not age >= 18:                           # not bool\n",
    "    print('成年')\n",
    "else:\n",
    "    print('未成年')"
   ]
  }
 ],
 "metadata": {
  "kernelspec": {
   "display_name": "Python 3",
   "language": "python",
   "name": "python3"
  },
  "language_info": {
   "codemirror_mode": {
    "name": "ipython",
    "version": 3
   },
   "file_extension": ".py",
   "mimetype": "text/x-python",
   "name": "python",
   "nbconvert_exporter": "python",
   "pygments_lexer": "ipython3",
   "version": "3.10.14"
  }
 },
 "nbformat": 4,
 "nbformat_minor": 2
}
