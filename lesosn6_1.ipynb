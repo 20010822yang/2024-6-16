{
 "cells": [
  {
   "cell_type": "code",
   "execution_count": 3,
   "metadata": {},
   "outputs": [
    {
     "name": "stdout",
     "output_type": "stream",
     "text": [
      "成年\n"
     ]
    }
   ],
   "source": [
    "# not 運算值 只能搭配bool值\n",
    "age = eval(input(\"輸入年齡\"))\n",
    "if age >= 18:                               # [age >= 18] 這個判斷會跳出 bool值: True or False\n",
    "    print('成年')\n",
    "else:\n",
    "    print('未成年')"
   ]
  },
  {
   "cell_type": "code",
   "execution_count": null,
   "metadata": {},
   "outputs": [],
   "source": [
    "# not 運算值 只能搭配bool值\n",
    "age = eval(input(\"輸入年齡\"))\n",
    "if not age >= 18:                           # not bool\n",
    "    print('成年')\n",
    "else:\n",
    "    print('未成年')"
   ]
  },
  {
   "cell_type": "code",
   "execution_count": 6,
   "metadata": {},
   "outputs": [
    {
     "name": "stdout",
     "output_type": "stream",
     "text": [
      "獎金1000元\n"
     ]
    }
   ],
   "source": [
    "#國文或數學100 ,獎金1000元\n",
    "#國文與數學100 ,獎金2000元\n",
    "chinese = int(input(\"輸入國文分數\"))\n",
    "math = int(input(\"輸入數學分數\"))\n",
    "if chinese == 100 and math == 100 :\n",
    "    print('獎金2000元')\n",
    "elif chinese == 100 or math == 100 :\n",
    "    print('獎金1000元')"
   ]
  },
  {
   "cell_type": "code",
   "execution_count": 23,
   "metadata": {},
   "outputs": [
    {
     "name": "stdout",
     "output_type": "stream",
     "text": [
      "83公斤\n",
      "1.76公尺\n",
      "您的BMI值為26.79\n",
      "您的體重過重\n"
     ]
    }
   ],
   "source": [
    "weight = eval(input(\"輸入您的體重(公斤)\"))\n",
    "print(f\"{weight}公斤\")\n",
    "lengh  = eval(input(\"輸入您的身高(公尺)\"))\n",
    "print(f\"{lengh}公尺\")\n",
    "BMI = weight / lengh / lengh\n",
    "if BMI < 18.5:\n",
    "    print(f\"您的BMI值為{BMI:.2f}\")\n",
    "    print(\"您的體重過輕\")\n",
    "elif BMI < 24:\n",
    "    print(f\"您的BMI值為{BMI:.2f}\")\n",
    "    print(\"您的體重正常\")\n",
    "elif BMI < 27:\n",
    "    print(f\"您的BMI值為{BMI:.2f}\")\n",
    "    print(\"您的體重過重\")\n",
    "elif BMI < 30:\n",
    "    print(f\"您的BMI值為{BMI:.2f}\")\n",
    "    print(\"您的體重輕度肥胖\")\n",
    "elif BMI < 35:\n",
    "    print(f\"您的BMI值為{BMI:.2f}\")\n",
    "    print(\"您的體重中度肥胖\")\n",
    "else:\n",
    "    print(f\"您的BMI值為{BMI:.2fI}\")\n",
    "    print(\"您的體重重度肥胖\")"
   ]
  }
 ],
 "metadata": {
  "kernelspec": {
   "display_name": "Python 3",
   "language": "python",
   "name": "python3"
  },
  "language_info": {
   "codemirror_mode": {
    "name": "ipython",
    "version": 3
   },
   "file_extension": ".py",
   "mimetype": "text/x-python",
   "name": "python",
   "nbconvert_exporter": "python",
   "pygments_lexer": "ipython3",
   "version": "3.10.14"
  }
 },
 "nbformat": 4,
 "nbformat_minor": 2
}
