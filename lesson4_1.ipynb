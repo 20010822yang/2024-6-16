{
 "cells": [
  {
   "cell_type": "code",
   "execution_count": 2,
   "metadata": {},
   "outputs": [
    {
     "data": {
      "text/plain": [
       "8.0"
      ]
     },
     "execution_count": 2,
     "metadata": {},
     "output_type": "execute_result"
    }
   ],
   "source": [
    "value1 = 0\n",
    "value1 += 0\n",
    "value1 += 6\n",
    "value1 += 7\n",
    "value1 += 9\n",
    "value1 += 10\n",
    "value1 /= 4\n",
    "value1"
   ]
  },
  {
   "cell_type": "code",
   "execution_count": 5,
   "metadata": {},
   "outputs": [
    {
     "data": {
      "text/plain": [
       "8.0"
      ]
     },
     "execution_count": 5,
     "metadata": {},
     "output_type": "execute_result"
    }
   ],
   "source": [
    "value2 = 0\n",
    "value2 += 0\n",
    "value2 += 5\n",
    "value2 += 11\n",
    "value2 += 16\n",
    "value2 /= 4\n",
    "value2"
   ]
  },
  {
   "cell_type": "code",
   "execution_count": 20,
   "metadata": {},
   "outputs": [
    {
     "name": "stdout",
     "output_type": "stream",
     "text": [
      "a,b,c,d的標準差為6.97614984548545\n",
      "a,b,c,d的平均為8\n"
     ]
    }
   ],
   "source": [
    "import statistics\n",
    "a = eval(input('輸入a值'))\n",
    "b = eval(input('輸入b值'))\n",
    "c = eval(input('輸入c值'))\n",
    "d = eval(input('輸入d值'))\n",
    "std1 = statistics.stdev([a,b,c,d])\n",
    "mean1 = statistics.mean([a,b,c,d])\n",
    "print(f'a,b,c,d的標準差為{std1}')\n",
    "print(f'a,b,c,d的平均為{mean1}')"
   ]
  }
 ],
 "metadata": {
  "kernelspec": {
   "display_name": "Python 3",
   "language": "python",
   "name": "python3"
  },
  "language_info": {
   "codemirror_mode": {
    "name": "ipython",
    "version": 3
   },
   "file_extension": ".py",
   "mimetype": "text/x-python",
   "name": "python",
   "nbconvert_exporter": "python",
   "pygments_lexer": "ipython3",
   "version": "3.10.14"
  }
 },
 "nbformat": 4,
 "nbformat_minor": 2
}
