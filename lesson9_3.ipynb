{
 "cells": [
  {
   "cell_type": "code",
   "execution_count": 25,
   "metadata": {},
   "outputs": [],
   "source": [
    "class Student:\n",
    "    def __init__(self,n,c,e,m):\n",
    "        self.name = n\n",
    "        self.english = e\n",
    "        self.chinese = c\n",
    "        self.math = m\n",
    "\n",
    "    @property  #property(屬性)\n",
    "    def __name(self):\n",
    "        return self.__name\n",
    "    \n",
    "    def sum(self):\n",
    "        return self.chinese + self.english + self.math\n",
    "    def average(self):\n",
    "        return self.sum() / 3\n",
    "    def __repr__(self):\n",
    "        description = f'''\n",
    "這是Student 的實體\n",
    "chinese是{self.chinese}\n",
    "english是{self.english}\n",
    "math是{self.math}\n",
    "'''\n",
    "        return description"
   ]
  },
  {
   "cell_type": "code",
   "execution_count": 26,
   "metadata": {},
   "outputs": [
    {
     "name": "stdout",
     "output_type": "stream",
     "text": [
      "楊勝富\n",
      "52\n",
      "89\n",
      "15\n",
      "156\n",
      "52.0\n",
      "\n",
      "這是Student 的實體\n",
      "chinese是89\n",
      "english是52\n",
      "math是15\n",
      "\n"
     ]
    }
   ],
   "source": [
    "stu1 = Student(\"楊勝富\",89,52,15)\n",
    "print(stu1.name)\n",
    "print(stu1.english)\n",
    "print(stu1.chinese)\n",
    "print(stu1.math)\n",
    "print(stu1.sum())\n",
    "print(stu1.average())\n",
    "print(stu1)\n"
   ]
  },
  {
   "cell_type": "code",
   "execution_count": 27,
   "metadata": {},
   "outputs": [
    {
     "name": "stdout",
     "output_type": "stream",
     "text": [
      "\n",
      "這是Student 的實體\n",
      "chinese是51\n",
      "english是81\n",
      "math是100\n",
      "\n"
     ]
    }
   ],
   "source": [
    "stu2 = Student(\"王大哥\",51,81,100)\n",
    "print(stu2)"
   ]
  }
 ],
 "metadata": {
  "kernelspec": {
   "display_name": "Python 3",
   "language": "python",
   "name": "python3"
  },
  "language_info": {
   "codemirror_mode": {
    "name": "ipython",
    "version": 3
   },
   "file_extension": ".py",
   "mimetype": "text/x-python",
   "name": "python",
   "nbconvert_exporter": "python",
   "pygments_lexer": "ipython3",
   "version": "3.10.14"
  }
 },
 "nbformat": 4,
 "nbformat_minor": 2
}
