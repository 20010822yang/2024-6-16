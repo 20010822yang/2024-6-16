{
 "cells": [
  {
   "cell_type": "code",
   "execution_count": 6,
   "metadata": {},
   "outputs": [],
   "source": [
    "class Student:\n",
    "    def __init__(self,n,c,e,m):\n",
    "        self.name = n\n",
    "        self.english = e\n",
    "        self.chinese = c\n",
    "        self.math = m"
   ]
  },
  {
   "cell_type": "code",
   "execution_count": 10,
   "metadata": {},
   "outputs": [
    {
     "name": "stdout",
     "output_type": "stream",
     "text": [
      "楊勝富\n",
      "52\n",
      "89\n",
      "15\n"
     ]
    }
   ],
   "source": [
    "stu1 = Student(\"楊勝富\",89,52,15)\n",
    "print(stu1.name)\n",
    "print(stu1.english)\n",
    "print(stu1.chinese)\n",
    "print(stu1.math)\n"
   ]
  }
 ],
 "metadata": {
  "kernelspec": {
   "display_name": "Python 3",
   "language": "python",
   "name": "python3"
  },
  "language_info": {
   "codemirror_mode": {
    "name": "ipython",
    "version": 3
   },
   "file_extension": ".py",
   "mimetype": "text/x-python",
   "name": "python",
   "nbconvert_exporter": "python",
   "pygments_lexer": "ipython3",
   "version": "3.10.14"
  }
 },
 "nbformat": 4,
 "nbformat_minor": 2
}
