{
 "cells": [
  {
   "cell_type": "code",
   "execution_count": 9,
   "metadata": {},
   "outputs": [
    {
     "name": "stdout",
     "output_type": "stream",
     "text": [
      "優等\n"
     ]
    }
   ],
   "source": [
    "score = eval(input('輸入分數'))\n",
    "if score < 60:\n",
    "    print('不及格')\n",
    "else:\n",
    "    if score < 80:\n",
    "        print('及格')\n",
    "    else:\n",
    "        if score <= 100:\n",
    "            print('優等')"
   ]
  },
  {
   "cell_type": "code",
   "execution_count": 17,
   "metadata": {},
   "outputs": [
    {
     "name": "stdout",
     "output_type": "stream",
     "text": [
      "及格\n"
     ]
    }
   ],
   "source": [
    "score = eval(input('輸入分數'))\n",
    "if score < 60:\n",
    "    print('不及格')\n",
    "elif score < 80:\n",
    "    print('及格')\n",
    "elif score <= 100:\n",
    "        print('優等')\n",
    "        "
   ]
  }
 ],
 "metadata": {
  "kernelspec": {
   "display_name": "Python 3",
   "language": "python",
   "name": "python3"
  },
  "language_info": {
   "codemirror_mode": {
    "name": "ipython",
    "version": 3
   },
   "file_extension": ".py",
   "mimetype": "text/x-python",
   "name": "python",
   "nbconvert_exporter": "python",
   "pygments_lexer": "ipython3",
   "version": "3.10.14"
  }
 },
 "nbformat": 4,
 "nbformat_minor": 2
}
