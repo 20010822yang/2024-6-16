{
 "cells": [
  {
   "cell_type": "code",
   "execution_count": 2,
   "metadata": {},
   "outputs": [
    {
     "name": "stdout",
     "output_type": "stream",
     "text": [
      "半徑為10\n",
      "半徑為10,面積為314.1592653589793\n"
     ]
    }
   ],
   "source": [
    "import math\n",
    "def circle_area(r):               #定義方程式,def function (參數),參數只是一個代表,並不是一直值\n",
    "    a = r ** 2 * math.pi\n",
    "    return a\n",
    "radius = int(input('輸入半徑'))\n",
    "print(f\"半徑為{radius}\")\n",
    "area = circle_area(radius)\n",
    "print(f\"半徑為{radius},面積為{area}\")"
   ]
  },
  {
   "cell_type": "code",
   "execution_count": 5,
   "metadata": {},
   "outputs": [
    {
     "data": {
      "text/plain": [
       "65000.0"
      ]
     },
     "execution_count": 5,
     "metadata": {},
     "output_type": "execute_result"
    }
   ],
   "source": [
    "def area (top,bottom,hight):\n",
    "    return (top + bottom) * hight / 2\n",
    "area(50,80,1000)\n",
    "area(bottom = 80,top = 50, hight = 1000)            # 引數名稱呼叫,可以不依照順序\n",
    "area(50,hight = 1000,bottom = 80)                   # 只要開始用引數值呼叫,後續只能用引數值呼叫"
   ]
  },
  {
   "cell_type": "code",
   "execution_count": 8,
   "metadata": {},
   "outputs": [
    {
     "name": "stdout",
     "output_type": "stream",
     "text": [
      "1=2=89=84=89=948=489 ,/n換下一行"
     ]
    }
   ],
   "source": [
    "print(1,2,89,84,89,948,489,sep = '=',end = \" ,換下一行/n\")            #sep表示每一個引數值之間你想放入甚麼東西,end 表示結尾想放什麼,{/n}表示換行\n"
   ]
  },
  {
   "cell_type": "code",
   "execution_count": null,
   "metadata": {},
   "outputs": [],
   "source": []
  }
 ],
 "metadata": {
  "kernelspec": {
   "display_name": "Python 3",
   "language": "python",
   "name": "python3"
  },
  "language_info": {
   "codemirror_mode": {
    "name": "ipython",
    "version": 3
   },
   "file_extension": ".py",
   "mimetype": "text/x-python",
   "name": "python",
   "nbconvert_exporter": "python",
   "pygments_lexer": "ipython3",
   "version": "3.10.14"
  }
 },
 "nbformat": 4,
 "nbformat_minor": 2
}
