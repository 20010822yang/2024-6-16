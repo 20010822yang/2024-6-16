{
 "cells": [
  {
   "cell_type": "code",
   "execution_count": 34,
   "metadata": {},
   "outputs": [
    {
     "name": "stdout",
     "output_type": "stream",
     "text": [
      "三數相加等於3\n"
     ]
    }
   ],
   "source": [
    "total = 0 \n",
    "value = eval(input('第一個值'))\n",
    "total = total + value\n",
    "\n",
    "value = eval(input('第二個值'))\n",
    "total = total + value\n",
    "\n",
    "value = eval(input('第三個值'))\n",
    "total = total + value\n",
    "print(f'三數相加等於{total}')"
   ]
  },
  {
   "cell_type": "code",
   "execution_count": 32,
   "metadata": {},
   "outputs": [
    {
     "ename": "SyntaxError",
     "evalue": "invalid syntax (<string>, line 0)",
     "output_type": "error",
     "traceback": [
      "Traceback \u001b[0;36m(most recent call last)\u001b[0m:\n",
      "\u001b[0m  File \u001b[1;32m~/.local/lib/python3.10/site-packages/IPython/core/interactiveshell.py:3577\u001b[0m in \u001b[1;35mrun_code\u001b[0m\n    exec(code_obj, self.user_global_ns, self.user_ns)\u001b[0m\n",
      "\u001b[0;36m  Cell \u001b[0;32mIn[32], line 3\u001b[0;36m\n\u001b[0;31m    value = eval(input('第一個值'))\u001b[0;36m\n",
      "\u001b[0;36m  File \u001b[0;32m<string>\u001b[0;36m\u001b[0m\n\u001b[0;31m    \u001b[0m\n\u001b[0m    ^\u001b[0m\n\u001b[0;31mSyntaxError\u001b[0m\u001b[0;31m:\u001b[0m invalid syntax\n"
     ]
    }
   ],
   "source": [
    "#複合指定運算子  +=\n",
    "total = 0 \n",
    "value = eval(input('第一個值'))\n",
    "total += value\n",
    "\n",
    "value = eval(input('第二個值'))\n",
    "total += value\n",
    "\n",
    "value = eval(input('第三個值'))\n",
    "total += value\n",
    "print(f'三數相加等於{total}')"
   ]
  },
  {
   "cell_type": "code",
   "execution_count": null,
   "metadata": {},
   "outputs": [
    {
     "name": "stdout",
     "output_type": "stream",
     "text": [
      "角度為90度\n"
     ]
    }
   ],
   "source": [
    "import math    #匯入工具箱math\n",
    "\n",
    "斜邊 = eval(input('斜邊長度'))\n",
    "對邊 = eval(input('對邊'))\n",
    "degree = math.degrees(math.asin(對邊/斜邊))\n",
    "degree = int(degree)\n",
    "print(f'角度為{degree}度')"
   ]
  }
 ],
 "metadata": {
  "kernelspec": {
   "display_name": "Python 3",
   "language": "python",
   "name": "python3"
  },
  "language_info": {
   "codemirror_mode": {
    "name": "ipython",
    "version": 3
   },
   "file_extension": ".py",
   "mimetype": "text/x-python",
   "name": "python",
   "nbconvert_exporter": "python",
   "pygments_lexer": "ipython3",
   "version": "3.10.14"
  }
 },
 "nbformat": 4,
 "nbformat_minor": 2
}
