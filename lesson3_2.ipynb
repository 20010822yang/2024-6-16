{
 "cells": [
  {
   "cell_type": "code",
   "execution_count": 34,
   "metadata": {},
   "outputs": [
    {
     "name": "stdout",
     "output_type": "stream",
     "text": [
      "三數相加等於3\n"
     ]
    }
   ],
   "source": [
    "total = 0 \n",
    "value = eval(input('第一個值'))\n",
    "total = total + value\n",
    "\n",
    "value = eval(input('第二個值'))\n",
    "total = total + value\n",
    "\n",
    "value = eval(input('第三個值'))\n",
    "total = total + value\n",
    "print(f'三數相加等於{total}')"
   ]
  },
  {
   "cell_type": "code",
   "execution_count": 1,
   "metadata": {},
   "outputs": [
    {
     "name": "stdout",
     "output_type": "stream",
     "text": [
      "三數相加等於3\n"
     ]
    }
   ],
   "source": [
    "#複合指定運算子  +=\n",
    "total = 0 \n",
    "value = eval(input('第一個值'))\n",
    "total += value\n",
    "\n",
    "value = eval(input('第二個值'))\n",
    "total += value\n",
    "\n",
    "value = eval(input('第三個值'))\n",
    "total += value\n",
    "print(f'三數相加等於{total}')"
   ]
  },
  {
   "cell_type": "code",
   "execution_count": null,
   "metadata": {},
   "outputs": [
    {
     "name": "stdout",
     "output_type": "stream",
     "text": [
      "角度為90度\n"
     ]
    }
   ],
   "source": [
    "import math    #匯入工具箱math\n",
    "\n",
    "斜邊 = eval(input('斜邊長度'))\n",
    "對邊 = eval(input('對邊'))\n",
    "degree = math.degrees(math.asin(對邊/斜邊))\n",
    "degree = int(degree)\n",
    "print(f'角度為{degree}度')"
   ]
  }
 ],
 "metadata": {
  "kernelspec": {
   "display_name": "Python 3",
   "language": "python",
   "name": "python3"
  },
  "language_info": {
   "codemirror_mode": {
    "name": "ipython",
    "version": 3
   },
   "file_extension": ".py",
   "mimetype": "text/x-python",
   "name": "python",
   "nbconvert_exporter": "python",
   "pygments_lexer": "ipython3",
   "version": "3.10.14"
  }
 },
 "nbformat": 4,
 "nbformat_minor": 2
}
