{
 "cells": [
  {
   "cell_type": "code",
   "execution_count": 16,
   "metadata": {},
   "outputs": [
    {
     "name": "stdout",
     "output_type": "stream",
     "text": [
      "未知錯誤\n"
     ]
    }
   ],
   "source": [
    "#raise 處理\n",
    "try:\n",
    "    Money = int(input('輸入金額'))\n",
    "    g = eval(input('輸入浮點數'))\n",
    "    raise KeyboardInterrupt             # 必定raise\n",
    "except SyntaxError:                     # 語法錯誤\n",
    "    print('2 ')\n",
    "except ValueError:                      # 數值錯誤\n",
    "    print('1')\n",
    "except:\n",
    "    print('未知錯誤')\n",
    "else:\n",
    "    print(Money)\n",
    "    print(g)"
   ]
  },
  {
   "cell_type": "code",
   "execution_count": 18,
   "metadata": {},
   "outputs": [
    {
     "name": "stdout",
     "output_type": "stream",
     "text": [
      "輸入法無raise\n",
      "25\n",
      "25\n"
     ]
    }
   ],
   "source": [
    "#raise 處理\n",
    "try:\n",
    "    Money = int(input('輸入金額'))\n",
    "    g = eval(input('輸入浮點數'))\n",
    "except SyntaxError:                     # 語法錯誤\n",
    "    print('2 ')\n",
    "except ValueError:                      # 數值錯誤\n",
    "    print('1')\n",
    "except:\n",
    "    print('未知錯誤')\n",
    "else:                                   # 上面沒有raise,執行else內程式\n",
    "    print('輸入法無raise')\n",
    "    print(Money)\n",
    "    print(g)"
   ]
  },
  {
   "cell_type": "code",
   "execution_count": 26,
   "metadata": {},
   "outputs": [
    {
     "name": "stdout",
     "output_type": "stream",
     "text": [
      "輸入的分數格式錯誤\n"
     ]
    }
   ],
   "source": [
    "try:                                        # 檢查raise\n",
    "    scores = int(input('輸入成績'))\n",
    "except ValueError:                          # 檢查到錯誤,執行except內程式\n",
    "    print('輸入的分數格式錯誤')\n",
    "else:                                       # 沒有raise才執行下面的程式\n",
    "    is_add = input('是否加分(yes or no)')\n",
    "    if is_add == 'yes':\n",
    "        scores *= 1.05\n",
    "        if scores >= 300 :\n",
    "            scores = 300\n",
    "    print(f\"{scores}\")"
   ]
  }
 ],
 "metadata": {
  "kernelspec": {
   "display_name": "Python 3",
   "language": "python",
   "name": "python3"
  },
  "language_info": {
   "codemirror_mode": {
    "name": "ipython",
    "version": 3
   },
   "file_extension": ".py",
   "mimetype": "text/x-python",
   "name": "python",
   "nbconvert_exporter": "python",
   "pygments_lexer": "ipython3",
   "version": "3.10.14"
  }
 },
 "nbformat": 4,
 "nbformat_minor": 2
}
