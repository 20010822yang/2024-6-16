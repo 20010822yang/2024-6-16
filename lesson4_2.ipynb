{
 "cells": [
  {
   "cell_type": "code",
   "execution_count": 6,
   "metadata": {},
   "outputs": [
    {
     "name": "stdout",
     "output_type": "stream",
     "text": [
      "你的成績為[50]\n",
      "不及格\n"
     ]
    }
   ],
   "source": [
    "# if 單向選擇\n",
    "a = eval(input('數值a'))\n",
    "print(f'你的成績為[{a}]')\n",
    "if a >= 60 :\n",
    "    print('及格')\n",
    "else :\n",
    "    print('不及格')\n"
   ]
  },
  {
   "cell_type": "code",
   "execution_count": 1,
   "metadata": {},
   "outputs": [],
   "source": [
    "scores = int(input('輸入成績'))\n",
    "is_add = input('是否加分(yes or no)')\n",
    "if is_add == 'yes':\n",
    "    scores *= 1.05\n",
    "print(f'成績為{scores:.0f}')    #會四捨五入\n",
    "print(f'成績為{int(scores)}')   #直接捨去小數點後數字\n",
    "print(f'成績為{round(scores)}') #round 四捨五入"
   ]
  },
  {
   "cell_type": "code",
   "execution_count": 2,
   "metadata": {},
   "outputs": [
    {
     "name": "stdout",
     "output_type": "stream",
     "text": [
      "300\n"
     ]
    }
   ],
   "source": [
    "scores = int(input('輸入成績'))\n",
    "is_add = input('是否加分(yes or no)')\n",
    "if is_add == 'yes':\n",
    "    scores *= 1.05\n",
    "    if scores >= 300 :\n",
    "        scores = 300\n",
    "print(f\"{scores}\")"
   ]
  }
 ],
 "metadata": {
  "kernelspec": {
   "display_name": "Python 3",
   "language": "python",
   "name": "python3"
  },
  "language_info": {
   "codemirror_mode": {
    "name": "ipython",
    "version": 3
   },
   "file_extension": ".py",
   "mimetype": "text/x-python",
   "name": "python",
   "nbconvert_exporter": "python",
   "pygments_lexer": "ipython3",
   "version": "3.10.14"
  }
 },
 "nbformat": 4,
 "nbformat_minor": 2
}
