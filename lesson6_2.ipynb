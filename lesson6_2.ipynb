{
 "cells": [
  {
   "cell_type": "code",
   "execution_count": 32,
   "metadata": {},
   "outputs": [
    {
     "name": "stdout",
     "output_type": "stream",
     "text": [
      "55\n"
     ]
    }
   ],
   "source": [
    "# 1到10加總\n",
    "value = 0\n",
    "for i in range(1,11):\n",
    "    value += i\n",
    "print(value)"
   ]
  },
  {
   "cell_type": "code",
   "execution_count": 7,
   "metadata": {},
   "outputs": [
    {
     "name": "stdout",
     "output_type": "stream",
     "text": [
      "125250\n"
     ]
    }
   ],
   "source": [
    "start = int(input(\"起始值\"))\n",
    "end = int(input(\"最後值\"))\n",
    "value = 0\n",
    "for i in range(start,end+1):\n",
    "    value +=i\n",
    "print(value)"
   ]
  },
  {
   "cell_type": "code",
   "execution_count": 9,
   "metadata": {},
   "outputs": [
    {
     "name": "stdout",
     "output_type": "stream",
     "text": [
      "1 2 3 4 5 6 7 8 9 10 "
     ]
    }
   ],
   "source": [
    "for i in range(1,11):\n",
    "    print(i,end = \" \")              # 結尾不換行"
   ]
  },
  {
   "cell_type": "code",
   "execution_count": null,
   "metadata": {},
   "outputs": [
    {
     "name": "stdout",
     "output_type": "stream",
     "text": [
      " 1* 1 =  1     1* 2 =  2     1* 3 =  3     1* 4 =  4     1* 5 =  5     1* 6 =  6     1* 7 =  7     1* 8 =  8     1* 9 =  9    \n",
      " 2* 1 =  2     2* 2 =  4     2* 3 =  6     2* 4 =  8     2* 5 = 10     2* 6 = 12     2* 7 = 14     2* 8 = 16     2* 9 = 18    \n",
      " 3* 1 =  3     3* 2 =  6     3* 3 =  9     3* 4 = 12     3* 5 = 15     3* 6 = 18     3* 7 = 21     3* 8 = 24     3* 9 = 27    \n",
      " 4* 1 =  4     4* 2 =  8     4* 3 = 12     4* 4 = 16     4* 5 = 20     4* 6 = 24     4* 7 = 28     4* 8 = 32     4* 9 = 36    \n",
      " 5* 1 =  5     5* 2 = 10     5* 3 = 15     5* 4 = 20     5* 5 = 25     5* 6 = 30     5* 7 = 35     5* 8 = 40     5* 9 = 45    \n",
      " 6* 1 =  6     6* 2 = 12     6* 3 = 18     6* 4 = 24     6* 5 = 30     6* 6 = 36     6* 7 = 42     6* 8 = 48     6* 9 = 54    \n",
      " 7* 1 =  7     7* 2 = 14     7* 3 = 21     7* 4 = 28     7* 5 = 35     7* 6 = 42     7* 7 = 49     7* 8 = 56     7* 9 = 63    \n",
      " 8* 1 =  8     8* 2 = 16     8* 3 = 24     8* 4 = 32     8* 5 = 40     8* 6 = 48     8* 7 = 56     8* 8 = 64     8* 9 = 72    \n",
      " 9* 1 =  9     9* 2 = 18     9* 3 = 27     9* 4 = 36     9* 5 = 45     9* 6 = 54     9* 7 = 63     9* 8 = 72     9* 9 = 81    \n"
     ]
    }
   ],
   "source": [
    "for i in range(1,10):\n",
    "    for j in range(1,10):\n",
    "        value = i * j\n",
    "        print(f\"{i:2d}*{j:2d} = {value:2d}\",end = \"    \")                  # [ :<2d ] 給數值兩格的空間,數值偏左  # [:3d ] 給數值3格的空間\n",
    "    print()"
   ]
  },
  {
   "cell_type": "code",
   "execution_count": 33,
   "metadata": {},
   "outputs": [
    {
     "name": "stdout",
     "output_type": "stream",
     "text": [
      "55\n"
     ]
    }
   ],
   "source": [
    "# while\n",
    "value = 0\n",
    "i = 1\n",
    "while i <= 10:\n",
    "    value += i\n",
    "    i += 1\n",
    "print(value)"
   ]
  },
  {
   "cell_type": "code",
   "execution_count": 54,
   "metadata": {},
   "outputs": [
    {
     "name": "stdout",
     "output_type": "stream",
     "text": [
      "1 "
     ]
    }
   ],
   "source": [
    "#求所有因數\n",
    "num = int(input(\"輸入整數\"))\n",
    "for i in range(1,num+1):\n",
    "    value = num % i\n",
    "    if value == 0 :\n",
    "        print(i,end = \" \")"
   ]
  }
 ],
 "metadata": {
  "kernelspec": {
   "display_name": "Python 3",
   "language": "python",
   "name": "python3"
  },
  "language_info": {
   "codemirror_mode": {
    "name": "ipython",
    "version": 3
   },
   "file_extension": ".py",
   "mimetype": "text/x-python",
   "name": "python",
   "nbconvert_exporter": "python",
   "pygments_lexer": "ipython3",
   "version": "3.10.14"
  }
 },
 "nbformat": 4,
 "nbformat_minor": 2
}
