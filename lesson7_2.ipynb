{
 "cells": [
  {
   "cell_type": "code",
   "execution_count": 5,
   "metadata": {},
   "outputs": [
    {
     "name": "stdout",
     "output_type": "stream",
     "text": [
      "猜數字範圍1 ~ 100\n",
      "格式錯誤\n",
      "猜數字範圍1 ~ 100\n",
      "格式錯誤\n",
      "猜數字範圍1 ~ 100\n",
      "格式錯誤\n",
      "猜數字範圍1 ~ 100\n",
      "格式錯誤\n",
      "猜數字範圍1 ~ 100\n",
      "猜數字範圍1 ~ 19\n",
      "格式錯誤\n",
      "猜數字範圍1 ~ 19\n",
      "格式錯誤\n",
      "猜數字範圍1 ~ 19\n",
      "格式錯誤\n",
      "猜數字範圍1 ~ 19\n",
      "猜數字範圍1 ~ 9\n",
      "猜數字範圍6 ~ 9\n",
      "命中準確數字\n",
      "遊戲結束,答案是8,你猜了第4次\n"
     ]
    }
   ],
   "source": [
    "#猜數字遊戲\n",
    "import random\n",
    "min = 1\n",
    "max = 100\n",
    "count = 0\n",
    "random_number = random.randint(min,max)\n",
    "while True:\n",
    "    print(f\"猜數字範圍{min} ~ {max}\")\n",
    "    try:\n",
    "        number = int(input(\"這是第{count + 1}次猜數字\"))\n",
    "    except:\n",
    "        print(\"格式錯誤\")\n",
    "        continue\n",
    "    count += 1\n",
    "    if number == random_number:\n",
    "        print(\"命中準確數字\")\n",
    "        break\n",
    "    elif number > random_number:\n",
    "        max = number - 1\n",
    "    elif number < random_number:\n",
    "        min = number + 1\n",
    "print(f\"遊戲結束,答案是{random_number},你猜了第{count}次\")"
   ]
  }
 ],
 "metadata": {
  "kernelspec": {
   "display_name": "Python 3",
   "language": "python",
   "name": "python3"
  },
  "language_info": {
   "codemirror_mode": {
    "name": "ipython",
    "version": 3
   },
   "file_extension": ".py",
   "mimetype": "text/x-python",
   "name": "python",
   "nbconvert_exporter": "python",
   "pygments_lexer": "ipython3",
   "version": "3.10.14"
  }
 },
 "nbformat": 4,
 "nbformat_minor": 2
}
